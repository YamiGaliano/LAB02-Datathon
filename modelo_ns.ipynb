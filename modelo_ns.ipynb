{
 "cells": [
  {
   "attachments": {},
   "cell_type": "markdown",
   "metadata": {},
   "source": [
    "## Modelo 3 no supervisado\n",
    "### Vamos a comenzar realizando "
   ]
  },
  {
   "cell_type": "code",
   "execution_count": null,
   "metadata": {},
   "outputs": [],
   "source": [
    "import pandas as pd\n",
    "import matplotlib.pyplot as plt\n",
    "import seaborn as sns\n",
    "import numpy as np"
   ]
  },
  {
   "cell_type": "code",
   "execution_count": null,
   "metadata": {},
   "outputs": [],
   "source": [
    "df_properties = pd.read_csv(\"datasets/properties_train_wn.csv\")\n",
    "df_properties_test = pd.read_parquet(\"datasets/test.parquet\")"
   ]
  },
  {
   "cell_type": "code",
   "execution_count": null,
   "metadata": {},
   "outputs": [],
   "source": [
    "#eliminamos columnas que no vamos a utilizar\n",
    "df_properties.drop(['Unnamed: 0','price'], axis=1, inplace=True)\n",
    "df_properties.head(5)"
   ]
  },
  {
   "cell_type": "code",
   "execution_count": null,
   "metadata": {},
   "outputs": [],
   "source": [
    "#Vamos a eliminar primero columnas de mas en test trabajar con datos mas pequeños\n",
    "df_properties_test.drop(['url', 'region_url','image_url','description'], axis=1, inplace=True)\n",
    "df_properties_test.isna().sum()"
   ]
  },
  {
   "attachments": {},
   "cell_type": "markdown",
   "metadata": {},
   "source": [
    "### Cambiamos variables cualitativas\n",
    "Type"
   ]
  },
  {
   "cell_type": "code",
   "execution_count": null,
   "metadata": {},
   "outputs": [],
   "source": [
    "\n",
    "#Validamos los valores unicos y creamos un diccionario con los valores\n",
    "df_properties.type.unique()\n",
    "\n",
    "dic_type = {'house':1, 'apartment':2, 'duplex':3, 'townhouse':4, 'in-law':5, 'condo':6,\n",
    "       'cottage/cabin':7, 'manufactured':8, 'flat':9, 'loft':10, 'assisted living':11,\n",
    "       'land':12}\n",
    "\n",
    "#Utilizamos la función map() para reemplazar los valores de la variable cualitativa con el diccionario\n",
    "df_properties[\"type_1\"] = df_properties[\"type\"].map(dic_type)\n",
    "\n",
    "#Hacemos lo mismo en el df de test\n",
    "df_properties_test[\"type_1\"] = df_properties_test[\"type\"].map(dic_type)\n",
    "\n",
    "df_properties_test.head(5)\n"
   ]
  },
  {
   "attachments": {},
   "cell_type": "markdown",
   "metadata": {},
   "source": [
    "Laundry_options"
   ]
  },
  {
   "cell_type": "code",
   "execution_count": null,
   "metadata": {},
   "outputs": [],
   "source": [
    "\n",
    "#Validamos los valores unicos y creamos un diccionario con los valores\n",
    "df_properties.laundry_options.unique()\n",
    "\n",
    "dic_laundry = {'w/d in unit':1, 'w/d hookups':2, 'laundry on site':3, 'laundry in bldg':4, 'no laundry on site':5}\n",
    "#Utilizamos la función map() para reemplazar los valores de la variable cualitativa con el diccionario\n",
    "df_properties[\"laundry\"] = df_properties[\"laundry_options\"].map(dic_laundry)\n",
    "\n",
    "#Hacemos lo mismo en el df de test\n",
    "df_properties_test[\"laundry\"] = df_properties_test[\"laundry_options\"].map(dic_laundry)\n",
    "df_properties_test.head(5)\n",
    "#Observación: en df_properties_test la columna quedo como float debido a que tenemos los nulos o None en la columna. \n"
   ]
  },
  {
   "cell_type": "code",
   "execution_count": null,
   "metadata": {},
   "outputs": [],
   "source": [
    "#Asignamos un 0 a los nulos\n",
    "df_properties_test['laundry'] = df_properties_test['laundry'].replace(np.nan, 0)\n",
    "df_properties_test.isna().sum()"
   ]
  },
  {
   "attachments": {},
   "cell_type": "markdown",
   "metadata": {},
   "source": [
    "Parking options"
   ]
  },
  {
   "cell_type": "code",
   "execution_count": null,
   "metadata": {},
   "outputs": [],
   "source": [
    "#Validamos los valores unicos y creamos un diccionario con los valores\n",
    "df_properties.parking_options.unique()\n",
    "\n",
    "dic_parking = {'detached garage':1, 'off-street parking':2, 'attached garage':3,'carport':4, 'no parking':5, 'street parking':6, 'valet parking':7}\n",
    "#Utilizamos la función map() para reemplazar los valores de la variable cualitativa con el diccionario\n",
    "df_properties[\"parking\"] = df_properties[\"parking_options\"].map(dic_parking)\n",
    "\n",
    "#Hacemos lo mismo en el df de test\n",
    "df_properties_test[\"parking\"] = df_properties_test[\"parking_options\"].map(dic_parking)\n",
    "df_properties_test.head(5)\n",
    "#Observación: en df_properties_test la columna quedo como float debido a que tenemos los nulos o None en la columna. \n",
    "#Asignamos un 0 a los nulos\n",
    "df_properties_test['parking'] = df_properties_test['parking'].replace(np.nan, 0)\n",
    "df_properties_test.isna().sum()\n"
   ]
  },
  {
   "attachments": {},
   "cell_type": "markdown",
   "metadata": {},
   "source": [
    "State"
   ]
  },
  {
   "cell_type": "code",
   "execution_count": null,
   "metadata": {},
   "outputs": [],
   "source": [
    "# Contar la frecuencia de cada valor en la columna\n",
    "value_counts = df_properties[\"state\"].value_counts()\n",
    "# Asignar un valor numérico a cada categoría de acuerdo a su frecuencia\n",
    "df_properties[\"state_freq\"] = df_properties[\"state\"].map(value_counts)\n",
    "\n",
    "\n",
    "#ahora en el test\n",
    "value_counts_test = df_properties_test[\"state\"].value_counts()\n",
    "df_properties_test[\"state_freq\"] = df_properties_test[\"state\"].map(value_counts_test)\n",
    "\n",
    "df_properties_test.head(5)"
   ]
  },
  {
   "cell_type": "code",
   "execution_count": null,
   "metadata": {},
   "outputs": [],
   "source": [
    "#Vamos a eliminar primero columnas de mas en test trabajar con datos mas pequeños\n",
    "df_properties.drop(['laundry_options', 'parking_options','state'], axis=1, inplace=True)\n",
    "df_properties_test.drop(['laundry_options', 'parking_options','state'], axis=1, inplace=True)\n",
    "\n",
    "#Definimos columnas a utilizar\n",
    "columnas = ['sqfeet','beds','baths','cats_allowed','dogs_allowed','wheelchair_access','type_1','laundry','state_freq','parking']"
   ]
  },
  {
   "cell_type": "code",
   "execution_count": null,
   "metadata": {},
   "outputs": [],
   "source": [
    "X = df_properties[columnas]\n",
    "X2 = df_properties_test[columnas]"
   ]
  },
  {
   "cell_type": "code",
   "execution_count": null,
   "metadata": {},
   "outputs": [],
   "source": [
    "from sklearn.cluster import KMeans"
   ]
  },
  {
   "cell_type": "code",
   "execution_count": null,
   "metadata": {},
   "outputs": [],
   "source": [
    "km = KMeans(n_clusters=3, random_state=0)\n",
    "km.fit(X2)"
   ]
  },
  {
   "cell_type": "code",
   "execution_count": null,
   "metadata": {},
   "outputs": [],
   "source": [
    "from sklearn.metrics import silhouette_samples, silhouette_score"
   ]
  },
  {
   "cell_type": "code",
   "execution_count": null,
   "metadata": {},
   "outputs": [],
   "source": [
    "# Calcular silhouette_score\n",
    "score = silhouette_score(X2, km.labels_)\n",
    "print(score)\n",
    "\n"
   ]
  },
  {
   "cell_type": "code",
   "execution_count": null,
   "metadata": {},
   "outputs": [],
   "source": [
    "etiquetas = km.labels_\n",
    "centros = km.cluster_centers_\n",
    "\n",
    "etiquetas"
   ]
  },
  {
   "cell_type": "code",
   "execution_count": null,
   "metadata": {},
   "outputs": [],
   "source": [
    "# Agregar columna \"cluster\" al DataFrame\n",
    "#df_properties = df_properties.assign(cluster=etiquetas)\n",
    "#df_properties\n",
    "df_properties_test = df_properties_test.assign(pred=etiquetas)\n",
    "df_properties_test"
   ]
  },
  {
   "cell_type": "code",
   "execution_count": null,
   "metadata": {},
   "outputs": [],
   "source": [
    "df_properties_test['pred'].to_csv('datasets/YamiGaliano.csv', index=False)"
   ]
  },
  {
   "cell_type": "code",
   "execution_count": null,
   "metadata": {},
   "outputs": [],
   "source": []
  }
 ],
 "metadata": {
  "kernelspec": {
   "display_name": "Python 3",
   "language": "python",
   "name": "python3"
  },
  "language_info": {
   "codemirror_mode": {
    "name": "ipython",
    "version": 3
   },
   "file_extension": ".py",
   "mimetype": "text/x-python",
   "name": "python",
   "nbconvert_exporter": "python",
   "pygments_lexer": "ipython3",
   "version": "3.10.8"
  },
  "orig_nbformat": 4,
  "vscode": {
   "interpreter": {
    "hash": "aee8b7b246df8f9039afb4144a1f6fd8d2ca17a180786b69acc140d282b71a49"
   }
  }
 },
 "nbformat": 4,
 "nbformat_minor": 2
}
