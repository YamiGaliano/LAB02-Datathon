{
 "cells": [
  {
   "attachments": {},
   "cell_type": "markdown",
   "metadata": {},
   "source": [
    "## Análisis exploratorio de los datos (EDA)."
   ]
  },
  {
   "attachments": {},
   "cell_type": "markdown",
   "metadata": {},
   "source": [
    "### Descripción de las dimensiones\n",
    "- id: Identificador del anuncio. \n",
    "- url: Link web del anuncio.\n",
    "- region: Región de Estados Unidos en donde se encuentra la propiedad.\n",
    "- region_url: Link web de los anuncios pertenecientes a la región. \n",
    "- price: Precio de la propiedad en petrodólares.\n",
    "- type: Tipo de propiedad.\n",
    "- sqfeet: Metros cuadrados de la propiedad.\n",
    "- beds: Cantidad de dormitorios.\n",
    "- baths: Cantidad de baños.\n",
    "- cats_allowed: Si se permiten gatos en la propiedad toma el valor 1, 0 para caso contrario.\n",
    "- dogs_allowed: Si se permiten perros en la propiedad toma el valor 1, 0 para caso contrario.\n",
    "- smoking_allowed: Si se permite fumar en la propiedad toma el valor 1, 0 para caso contrario.\n",
    "- wheelchair_access: Si la propiedad posee acceso para sillas de ruedas toma el valor 1, 0 para caso contrario.\n",
    "- electric_vehicle_charge: Si la propiedad posee cargador para vehículos eléctricos toma el valor 1, 0 para caso contrario.\n",
    "- comes_furnished: Si la propiedad viene amueblada toma el valor 1, 0 para caso contrario.\n",
    "- laundry_options: Opciones de lavandería (w/d in unit: Lavadora/secadora en la propiedad, w/d hookups: conexión para lavadora/secadora, laundry on site: servicio de lavandería en el lugar, laundry in bldg: servicio de lavandería en el edificio, no laundry on sit: sin servicio de lavandería).\n",
    "- parking_options: Opciones de estacionamiento (off-street parking: zona de estacionamiento, attached garage: garaje incluido, carport: cochera/garaje abierto, detached garage: garaje separado, street parking: estacionamiento delimitado en la calle, no parking: sin estacionamiento, valet parking: estacionamiento con servicio valet).\n",
    "- image_url: Link web de la imagen de la propiedad en el anuncio. \n",
    "- description: Descripción de la propiedad puesta en el anuncio. \n",
    "- lat: Latitud.\n",
    "- long: Longitud.\n",
    "- state: Código del estado al que pertenece la propiedad."
   ]
  },
  {
   "cell_type": "code",
   "execution_count": null,
   "metadata": {},
   "outputs": [],
   "source": [
    "import pandas as pd\n",
    "import matplotlib.pyplot as plt\n",
    "import seaborn as sns\n",
    "import numpy as np\n"
   ]
  },
  {
   "cell_type": "code",
   "execution_count": null,
   "metadata": {},
   "outputs": [],
   "source": [
    "#Comenzamos leyendo los archivos y viendo los campos que tiene\n",
    "properties_train = pd.read_parquet('datasets/train.parquet')\n",
    "properties_test = pd.read_parquet('datasets/test.parquet')"
   ]
  },
  {
   "cell_type": "code",
   "execution_count": null,
   "metadata": {},
   "outputs": [],
   "source": [
    "#Analizamos los primeros 5 registros\n",
    "properties_train.head(5)"
   ]
  },
  {
   "cell_type": "code",
   "execution_count": null,
   "metadata": {},
   "outputs": [],
   "source": [
    "#Validamos tipos de datos y sus faltantes\n",
    "properties_train.info()\n",
    "properties_train.isna().sum()"
   ]
  },
  {
   "cell_type": "code",
   "execution_count": null,
   "metadata": {},
   "outputs": [],
   "source": [
    "#Observamos algunas estadisticas \n",
    "properties_train.describe()"
   ]
  },
  {
   "cell_type": "code",
   "execution_count": null,
   "metadata": {},
   "outputs": [],
   "source": [
    "#Validamos si tenemos duplicados en general\n",
    "properties_train.duplicated().sum()"
   ]
  },
  {
   "cell_type": "code",
   "execution_count": null,
   "metadata": {},
   "outputs": [],
   "source": [
    "#Validamos duplicados de propiedades publicada varias veces con las mismas fotos y descripción \n",
    "properties_train.description.duplicated().sum()\n",
    "properties_train.image_url.duplicated().sum()"
   ]
  },
  {
   "attachments": {},
   "cell_type": "markdown",
   "metadata": {},
   "source": [
    "### Quitamos duplicados en image_url & description"
   ]
  },
  {
   "cell_type": "code",
   "execution_count": null,
   "metadata": {},
   "outputs": [],
   "source": [
    "#Comparamos 1 de esos duplicados para detectar cual es su variante y detectamos que es el precio, por lo que se va a mantener el último\n",
    "mask = properties_train[\"image_url\"].str.contains(\"https://images.craigslist.org/00R0R_5XAoSKvfrz\")\n",
    "properties_train[mask].head()\n"
   ]
  },
  {
   "cell_type": "code",
   "execution_count": null,
   "metadata": {},
   "outputs": [],
   "source": [
    "properties_train = properties_train.drop_duplicates(subset='image_url', keep='last')\n",
    "properties_train.shape"
   ]
  },
  {
   "attachments": {},
   "cell_type": "markdown",
   "metadata": {},
   "source": [
    "### Creamos variable objetivo"
   ]
  },
  {
   "cell_type": "code",
   "execution_count": null,
   "metadata": {},
   "outputs": [],
   "source": [
    "properties_train[\"category_price\"] = properties_train['price'].where(properties_train['price'] < 1000, 0).where(properties_train['price'] >= 1000, 1)\n",
    "\n",
    "properties_train.head(1)"
   ]
  },
  {
   "attachments": {},
   "cell_type": "markdown",
   "metadata": {},
   "source": [
    "### Analizamos el mapa, para validar si la lat y long se encuentran ok o tenemos outliers"
   ]
  },
  {
   "cell_type": "code",
   "execution_count": null,
   "metadata": {},
   "outputs": [],
   "source": [
    "import geopandas as gpd\n",
    "from shapely.geometry import Point"
   ]
  },
  {
   "cell_type": "code",
   "execution_count": null,
   "metadata": {},
   "outputs": [],
   "source": [
    "# Creamos una columna de tipo Point utilizando las columnas 'latitud' y 'longitud'\n",
    "mapa = properties_train\n",
    "mapa['geometry'] = mapa.apply(lambda x: Point(x.long, x.lat), axis=1)\n",
    "\n",
    "# Creamos una columna de tipo GeoSeries utilizando la columna de Point\n",
    "mapa = gpd.GeoDataFrame(mapa, geometry='geometry')\n",
    "\n",
    "# Asignar un sistema de coordenadas específico (en este caso, EPSG: 4326)\n",
    "mapa.crs = {'init': 'epsg:4326'}"
   ]
  },
  {
   "cell_type": "code",
   "execution_count": null,
   "metadata": {},
   "outputs": [],
   "source": [
    "# Graficamos el mapa\n",
    "mapa.plot()\n",
    "plt.show()"
   ]
  },
  {
   "attachments": {},
   "cell_type": "markdown",
   "metadata": {},
   "source": [
    "Podemos ver una dispersión que inncluye otros paises, no solo de EEUU. \n",
    "Vamos a analizar si corresponden a los límites de EEUU con un poligono. El mismo tiene un margen de error para las ciudades limitrofes. Descargamos el geo mapa de https://exploratory.io/map"
   ]
  },
  {
   "cell_type": "code",
   "execution_count": null,
   "metadata": {},
   "outputs": [],
   "source": [
    "# importar un poligono de Estados Unidos\n",
    "usa = gpd.read_file(\"./datasets/us.geojson\")\n",
    "\n",
    "mapa = properties_train\n",
    "#Crear un GeoDataFrame a partir de tu dataframe\n",
    "geo_df = gpd.GeoDataFrame(mapa, geometry=gpd.points_from_xy(mapa.long, mapa.lat))\n",
    "geo_df.crs = {'init': 'epsg:4326'}\n",
    "\n",
    "# Hacer una intersección entre el GeoDataFrame y el poligono de USA\n",
    "result = gpd.sjoin(geo_df, usa, op='within')\n",
    "\n",
    "# Crear una nueva columna en el dataframe original con un booleano si la propiedad esta dentro de Estados Unidos o no\n",
    "mapa['in_usa'] = mapa.index.isin(result.index)"
   ]
  },
  {
   "cell_type": "code",
   "execution_count": null,
   "metadata": {},
   "outputs": [],
   "source": [
    "mapa.in_usa.value_counts()\n",
    "maska = mapa[\"in_usa\"] == False\n",
    "mapa[maska].region"
   ]
  },
  {
   "attachments": {},
   "cell_type": "markdown",
   "metadata": {},
   "source": [
    "Podemos ver que descarto varias ciudades que si concuerdan con el pais de EEUU, por lo que vamos a validarlo con un listado de .cvs.\n",
    "Descargamos el csv con las regiones de la página: https://catalog.data.gov/dataset/?q=list+of+cities&sort=views_recent+desc&ext_location=&ext_bbox=&ext_prev_extent=-150.46875%2C-80.17871349622823%2C151.875%2C80.17871349622823"
   ]
  },
  {
   "cell_type": "code",
   "execution_count": null,
   "metadata": {},
   "outputs": [],
   "source": [
    "cities = pd.read_csv(\"datasets/cities_usa.csv\")\n",
    "#Comparamos las ciudades excluidas\n",
    "cities['region'] = cities['region'].str.lower()\n",
    "mapa['region'] = mapa['region'].str.lower()                                       \n",
    "\n",
    "mapa['valid_region'] = mapa['region'].isin(cities['region'])\n",
    "\n",
    "maska = (mapa[\"valid_region\"] == False) & (mapa[\"in_usa\"] == False)\n",
    "\n",
    "mapa[maska].region.unique()"
   ]
  },
  {
   "attachments": {},
   "cell_type": "markdown",
   "metadata": {},
   "source": [
    "Validamos que las regiones que no entran en los criterios siguen perteneciendo a EEUU pero con alguna nomenclatura que no contemplamos como la palabra 'city' o las abreviaciones. No se puede descartar ninguna región por el momento."
   ]
  },
  {
   "attachments": {},
   "cell_type": "markdown",
   "metadata": {},
   "source": [
    "## Outliers"
   ]
  },
  {
   "attachments": {},
   "cell_type": "markdown",
   "metadata": {},
   "source": [
    "Validamos outliers con 3 sigmas y zscore de price"
   ]
  },
  {
   "cell_type": "code",
   "execution_count": null,
   "metadata": {},
   "outputs": [],
   "source": [
    "# Vemos distribución de price con outlier\n",
    "plt.boxplot(properties_train[\"price\"], vert=False)\n",
    "\n",
    "# Mostrar el gráfico\n",
    "plt.show()"
   ]
  },
  {
   "cell_type": "code",
   "execution_count": null,
   "metadata": {},
   "outputs": [],
   "source": [
    "# Media y la desviación estándar\n",
    "mean = properties_train[\"price\"].mean()\n",
    "std = properties_train[\"price\"].std()\n",
    "outliers_3 = properties_train.query(\"(price < (@mean - 3 * @std)) | (price > (@mean + 3 * @std))\")\n",
    "outliers_3\n",
    "\n",
    "\n",
    "# Calcular el Z-score\n",
    "properties_train[\"zscore\"] = (properties_train[\"price\"] - properties_train[\"price\"].mean()) / properties_train[\"price\"].std()\n",
    "outliers_s = properties_train[(properties_train[\"zscore\"] > 3) | (properties_train[\"zscore\"] < -3)]\n",
    "outliers_s"
   ]
  },
  {
   "cell_type": "code",
   "execution_count": null,
   "metadata": {},
   "outputs": [],
   "source": [
    "#Eliminamos outlier identificado para ver si modifica el gráfico\n",
    "\n",
    "properties_train = properties_train.drop(outliers_3.index)\n",
    "# Crear el gráfico de caja\n",
    "plt.boxplot(properties_train[\"price\"], vert=False)\n",
    "\n",
    "# Mostrar el gráfico\n",
    "plt.show()"
   ]
  },
  {
   "attachments": {},
   "cell_type": "markdown",
   "metadata": {},
   "source": [
    "Outlier de sqfeet"
   ]
  },
  {
   "cell_type": "code",
   "execution_count": null,
   "metadata": {},
   "outputs": [],
   "source": [
    "# Vemos distribución de sqfeet con outlier\n",
    "plt.boxplot(properties_train[\"sqfeet\"], vert=False)\n",
    "\n",
    "# Mostrar el gráfico\n",
    "plt.show()"
   ]
  },
  {
   "cell_type": "code",
   "execution_count": null,
   "metadata": {},
   "outputs": [],
   "source": [
    "#Validamos 3 sigmas y Z-core\n",
    "\n",
    "# 3 sigmas\n",
    "mean = properties_train[\"sqfeet\"].mean()\n",
    "std = properties_train[\"sqfeet\"].std()\n",
    "outliers_sq3 = properties_train.query(\"(sqfeet < (@mean - 3 * @std)) | (sqfeet > (@mean + 3 * @std))\")\n",
    "outliers_sq3\n",
    "\n",
    "# Z-score\n",
    "properties_train[\"zscore\"] = (properties_train[\"sqfeet\"] - properties_train[\"sqfeet\"].mean()) / properties_train[\"sqfeet\"].std()\n",
    "outliers_b = properties_train[(properties_train[\"zscore\"] > 3) | (properties_train[\"zscore\"] < -3)]\n",
    "outliers_b\n"
   ]
  },
  {
   "cell_type": "code",
   "execution_count": null,
   "metadata": {},
   "outputs": [],
   "source": [
    "properties_train = properties_train.drop(outliers_sq3.index)\n",
    "\n",
    "# Crear el gráfico de caja\n",
    "plt.boxplot(properties_train[\"sqfeet\"], vert=False)\n",
    "\n",
    "# Mostrar el gráfico\n",
    "plt.show()"
   ]
  },
  {
   "attachments": {},
   "cell_type": "markdown",
   "metadata": {},
   "source": [
    "Outliers de beds"
   ]
  },
  {
   "cell_type": "code",
   "execution_count": null,
   "metadata": {},
   "outputs": [],
   "source": [
    "#No considero que tengan un outlier\n",
    "\n",
    "properties_train.baths.unique()\n",
    "\n",
    "properties_train.cats_allowed.unique()\n",
    "\n",
    "properties_train.dogs_allowed.unique()\n",
    "\n",
    "properties_train.smoking_allowed.unique()\n",
    "\n",
    "properties_train.wheelchair_access.unique()\n",
    "\n",
    "properties_train.electric_vehicle_charge.unique()\n",
    "\n",
    "properties_train.comes_furnished.unique()\n"
   ]
  },
  {
   "cell_type": "code",
   "execution_count": null,
   "metadata": {},
   "outputs": [],
   "source": [
    "properties_train.beds.unique()\n",
    "#Claramente tenemos valores outliers"
   ]
  },
  {
   "cell_type": "code",
   "execution_count": null,
   "metadata": {},
   "outputs": [],
   "source": [
    "# Vemos distribución de sqfeet con outlier\n",
    "plt.boxplot(properties_train[\"beds\"], vert=False)\n",
    "\n",
    "# Mostrar el gráfico\n",
    "plt.show()"
   ]
  },
  {
   "cell_type": "code",
   "execution_count": null,
   "metadata": {},
   "outputs": [],
   "source": [
    "maskara=properties_train.beds > 10\n",
    "properties_train[maskara]\n",
    "\n",
    "#eliminamos los datos outliers con máscara\n",
    "properties_train = properties_train.drop(properties_train[maskara].index)"
   ]
  },
  {
   "cell_type": "code",
   "execution_count": null,
   "metadata": {},
   "outputs": [],
   "source": [
    "# Vemos distribución de sqfeet con outlier\n",
    "plt.boxplot(properties_train[\"beds\"], vert=False)\n",
    "\n",
    "# Mostrar el gráfico\n",
    "plt.show()"
   ]
  },
  {
   "cell_type": "markdown",
   "metadata": {},
   "source": []
  },
  {
   "cell_type": "code",
   "execution_count": null,
   "metadata": {},
   "outputs": [],
   "source": [
    "#Eliminamos columnas que no suman\n",
    "properties_train.drop(['geometry', 'in_usa', 'valid_region','zscore','url', 'region_url','image_url','description'], axis=1, inplace=True)"
   ]
  },
  {
   "cell_type": "code",
   "execution_count": null,
   "metadata": {},
   "outputs": [],
   "source": [
    "properties_train.columns\n",
    "\n",
    "columnas = ['sqfeet', 'beds', 'baths',\n",
    "       'cats_allowed', 'dogs_allowed', 'smoking_allowed', 'wheelchair_access',\n",
    "       'electric_vehicle_charge', 'comes_furnished', 'category_price']"
   ]
  },
  {
   "cell_type": "code",
   "execution_count": null,
   "metadata": {},
   "outputs": [],
   "source": [
    "plt.figure(figsize=(10,10))\n",
    "sns.heatmap(properties_train[columnas].corr(method='spearman'), annot=True, fmt='.1g', cmap='coolwarm')"
   ]
  },
  {
   "attachments": {},
   "cell_type": "markdown",
   "metadata": {},
   "source": [
    "### Revisamos nuevamente nulos y separamos dataframes"
   ]
  },
  {
   "cell_type": "code",
   "execution_count": null,
   "metadata": {},
   "outputs": [],
   "source": [
    "#Notamos que no hubo un cambio quitando los duplicados de image_url\n",
    "properties_train.isna().sum()"
   ]
  },
  {
   "cell_type": "code",
   "execution_count": null,
   "metadata": {},
   "outputs": [],
   "source": [
    "#Debido a que: laundry_options y parking_options representan un 19% de los datos vamos a validar si realmente tiene impacto en el precio.\n",
    "properties_train.laundry_options.unique()\n",
    "properties_train.parking_options.unique()\n",
    "\n",
    "# Gráfico de barras de category_price segun laundry\n",
    "plot = pd.crosstab(index=properties_train['laundry_options'],\n",
    "            columns=properties_train['category_price']).apply(lambda r: r/r.sum() *100,\n",
    "                                              axis=1).plot(kind='bar')\n",
    "\n"
   ]
  },
  {
   "cell_type": "code",
   "execution_count": null,
   "metadata": {},
   "outputs": [],
   "source": [
    "# Gráfico de barras de category_price segun parking\n",
    "plot = pd.crosstab(index=properties_train['parking_options'],\n",
    "            columns=properties_train['category_price']).apply(lambda r: r/r.sum() *100,\n",
    "                                              axis=1).plot(kind='bar')"
   ]
  },
  {
   "attachments": {},
   "cell_type": "markdown",
   "metadata": {},
   "source": [
    "Observación:\n",
    "Por lo que se observa a simple vista, las categorias tienen un impacto en el precio de la propiedad. Es decir que aumenta el precio por tener estacionamiento y tener un lavadero en la propiedad también. "
   ]
  },
  {
   "cell_type": "markdown",
   "metadata": {},
   "source": []
  },
  {
   "attachments": {},
   "cell_type": "markdown",
   "metadata": {},
   "source": [
    "## Archivo remplazando nulos - properties_train_rep"
   ]
  },
  {
   "attachments": {},
   "cell_type": "markdown",
   "metadata": {},
   "source": [
    "Vamos a completar con valores desconocidos y vemos como impacta en precio"
   ]
  },
  {
   "cell_type": "code",
   "execution_count": null,
   "metadata": {},
   "outputs": [],
   "source": [
    "properties_train_rep = properties_train.fillna({'laundry_options': 'Unknown'})\n",
    "properties_train_rep = properties_train.fillna({'parking_options': 'Unknown'})\n",
    "properties_train_rep['laundry_options'] = properties_train['laundry_options'].replace(np.nan, 'Unknown')\n",
    "properties_train_rep.isna().sum()"
   ]
  },
  {
   "attachments": {},
   "cell_type": "markdown",
   "metadata": {},
   "source": [
    "Los demás datos nulos de lat y long representan el 5% de la información por lo que vamos a eliminarlos. "
   ]
  },
  {
   "cell_type": "code",
   "execution_count": null,
   "metadata": {},
   "outputs": [],
   "source": [
    "#Vamos a crear 2 dataframe, 1 sin nulos y 1 con nulos para analizar los resultados con ambos\n",
    "\n",
    "properties_train_rep = properties_train_rep.dropna()\n",
    "properties_train_rep.shape"
   ]
  },
  {
   "cell_type": "code",
   "execution_count": null,
   "metadata": {},
   "outputs": [],
   "source": [
    "properties_train.columns"
   ]
  },
  {
   "cell_type": "code",
   "execution_count": null,
   "metadata": {},
   "outputs": [],
   "source": [
    "#Creamos archivo de properties con remplazo para comenzar a hacer un modelo en otra notebook. \n",
    "\n",
    "properties_train_rep.to_csv('datasets/properties_train_rep.csv', index=True) "
   ]
  },
  {
   "attachments": {},
   "cell_type": "markdown",
   "metadata": {},
   "source": [
    "## Archivo remplazando nulos - properties_train_wn"
   ]
  },
  {
   "cell_type": "code",
   "execution_count": null,
   "metadata": {},
   "outputs": [],
   "source": [
    "properties_train.isna().sum()"
   ]
  },
  {
   "cell_type": "code",
   "execution_count": null,
   "metadata": {},
   "outputs": [],
   "source": [
    "properties_train_wn = properties_train.dropna()\n",
    "properties_train_wn.isna().sum()"
   ]
  },
  {
   "cell_type": "code",
   "execution_count": null,
   "metadata": {},
   "outputs": [],
   "source": [
    "properties_train_wn.shape"
   ]
  },
  {
   "cell_type": "code",
   "execution_count": null,
   "metadata": {},
   "outputs": [],
   "source": [
    "#Creamos archivo de properties sin nulos para comenzar a hacer un modelo en otra notebook. \n",
    "\n",
    "properties_train_rep.to_csv('datasets/properties_train_wn.csv', index=True) "
   ]
  },
  {
   "cell_type": "code",
   "execution_count": null,
   "metadata": {},
   "outputs": [],
   "source": []
  }
 ],
 "metadata": {
  "kernelspec": {
   "display_name": "Python 3",
   "language": "python",
   "name": "python3"
  },
  "language_info": {
   "codemirror_mode": {
    "name": "ipython",
    "version": 3
   },
   "file_extension": ".py",
   "mimetype": "text/x-python",
   "name": "python",
   "nbconvert_exporter": "python",
   "pygments_lexer": "ipython3",
   "version": "3.10.8"
  },
  "orig_nbformat": 4,
  "vscode": {
   "interpreter": {
    "hash": "aee8b7b246df8f9039afb4144a1f6fd8d2ca17a180786b69acc140d282b71a49"
   }
  }
 },
 "nbformat": 4,
 "nbformat_minor": 2
}
